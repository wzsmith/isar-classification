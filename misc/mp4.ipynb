{
 "cells": [
  {
   "cell_type": "code",
   "execution_count": 3,
   "metadata": {},
   "outputs": [
    {
     "name": "stdout",
     "output_type": "stream",
     "text": [
      "['image_3501.png', 'image_3502.png', 'image_3503.png', 'image_3504.png', 'image_3505.png', 'image_3506.png', 'image_3507.png', 'image_3508.png', 'image_3509.png', 'image_3510.png', 'image_3511.png', 'image_3512.png', 'image_3513.png', 'image_3514.png', 'image_3515.png', 'image_3516.png', 'image_3517.png', 'image_3518.png', 'image_3519.png', 'image_3520.png', 'image_3521.png', 'image_3522.png', 'image_3523.png', 'image_3524.png', 'image_3525.png', 'image_3526.png', 'image_3527.png', 'image_3528.png', 'image_3529.png', 'image_3530.png', 'image_3531.png', 'image_3532.png', 'image_3533.png', 'image_3534.png', 'image_3535.png', 'image_3536.png', 'image_3537.png', 'image_3538.png', 'image_3539.png', 'image_3540.png', 'image_3541.png', 'image_3542.png', 'image_3543.png', 'image_3544.png', 'image_3545.png', 'image_3546.png', 'image_3547.png', 'image_3548.png', 'image_3549.png', 'image_3550.png', 'image_3551.png', 'image_3552.png', 'image_3553.png', 'image_3554.png', 'image_3555.png', 'image_3556.png', 'image_3557.png', 'image_3558.png', 'image_3559.png', 'image_3560.png', 'image_3561.png', 'image_3562.png', 'image_3563.png', 'image_3564.png', 'image_3565.png', 'image_3566.png', 'image_3567.png', 'image_3568.png', 'image_3569.png', 'image_3570.png', 'image_3571.png', 'image_3572.png', 'image_3573.png', 'image_3574.png', 'image_3575.png', 'image_3576.png', 'image_3577.png', 'image_3578.png', 'image_3579.png', 'image_3580.png', 'image_3581.png', 'image_3582.png', 'image_3583.png', 'image_3584.png', 'image_3585.png', 'image_3586.png', 'image_3587.png', 'image_3588.png', 'image_3589.png', 'image_3590.png', 'image_3591.png', 'image_3592.png', 'image_3593.png', 'image_3594.png', 'image_3595.png', 'image_3596.png', 'image_3597.png', 'image_3598.png', 'image_3599.png', 'image_3600.png']\n",
      "['image_21131.png', 'image_21132.png', 'image_21133.png', 'image_21134.png', 'image_21135.png', 'image_21136.png', 'image_21137.png', 'image_21138.png', 'image_21139.png', 'image_21140.png', 'image_21141.png', 'image_21142.png', 'image_21143.png', 'image_21144.png', 'image_21145.png', 'image_21146.png', 'image_21147.png', 'image_21148.png', 'image_21149.png', 'image_21150.png', 'image_21151.png', 'image_21152.png', 'image_21153.png', 'image_21154.png', 'image_21155.png', 'image_21156.png', 'image_21157.png', 'image_21158.png', 'image_21159.png', 'image_21160.png', 'image_21161.png', 'image_21162.png', 'image_21163.png', 'image_21164.png', 'image_21165.png', 'image_21166.png', 'image_21167.png', 'image_21168.png', 'image_21169.png', 'image_21170.png', 'image_21171.png', 'image_21172.png', 'image_21173.png', 'image_21174.png', 'image_21175.png', 'image_21176.png', 'image_21177.png', 'image_21178.png', 'image_21179.png', 'image_21180.png', 'image_21181.png', 'image_21182.png', 'image_21183.png', 'image_21184.png', 'image_21185.png', 'image_21186.png', 'image_21187.png', 'image_21188.png', 'image_21189.png', 'image_21190.png', 'image_21191.png', 'image_21192.png', 'image_21193.png', 'image_21194.png', 'image_21195.png', 'image_21196.png', 'image_21197.png', 'image_21198.png', 'image_21199.png', 'image_21200.png', 'image_21201.png', 'image_21202.png', 'image_21203.png', 'image_21204.png', 'image_21205.png', 'image_21206.png', 'image_21207.png', 'image_21208.png', 'image_21209.png', 'image_21210.png', 'image_21211.png', 'image_21212.png', 'image_21213.png', 'image_21214.png', 'image_21215.png', 'image_21216.png', 'image_21217.png', 'image_21218.png', 'image_21219.png', 'image_21220.png', 'image_21221.png', 'image_21222.png', 'image_21223.png', 'image_21224.png', 'image_21225.png', 'image_21226.png', 'image_21227.png', 'image_21228.png', 'image_21229.png', 'image_21230.png']\n",
      "['image_25010.png', 'image_25011.png', 'image_25012.png', 'image_25013.png', 'image_25014.png', 'image_25015.png', 'image_25016.png', 'image_25017.png', 'image_25018.png', 'image_25019.png', 'image_25020.png', 'image_25021.png', 'image_25022.png', 'image_25023.png', 'image_25024.png', 'image_25025.png', 'image_25026.png', 'image_25027.png', 'image_25028.png', 'image_25029.png', 'image_25030.png', 'image_25031.png', 'image_25032.png', 'image_25033.png', 'image_25034.png', 'image_25035.png', 'image_25036.png', 'image_25037.png', 'image_25038.png', 'image_25039.png', 'image_25040.png', 'image_25041.png', 'image_25042.png', 'image_25043.png', 'image_25044.png', 'image_25045.png', 'image_25046.png', 'image_25047.png', 'image_25048.png', 'image_25049.png', 'image_25050.png', 'image_25051.png', 'image_25052.png', 'image_25053.png', 'image_25054.png', 'image_25055.png', 'image_25056.png', 'image_25057.png', 'image_25058.png', 'image_25059.png', 'image_25060.png', 'image_25061.png', 'image_25062.png', 'image_25063.png', 'image_25064.png', 'image_25065.png', 'image_25066.png', 'image_25067.png', 'image_25068.png', 'image_25069.png', 'image_25070.png', 'image_25071.png', 'image_25072.png', 'image_25073.png', 'image_25074.png', 'image_25075.png', 'image_25076.png', 'image_25077.png', 'image_25078.png', 'image_25079.png', 'image_25080.png', 'image_25081.png', 'image_25082.png']\n",
      "['image_28583.png', 'image_28584.png', 'image_28585.png', 'image_28586.png', 'image_28587.png', 'image_28588.png', 'image_28589.png', 'image_28590.png', 'image_28591.png', 'image_28592.png', 'image_28593.png', 'image_28594.png', 'image_28595.png', 'image_28596.png', 'image_28597.png', 'image_28598.png', 'image_28599.png', 'image_28600.png', 'image_28601.png', 'image_28602.png', 'image_28603.png', 'image_28604.png', 'image_28605.png', 'image_28606.png', 'image_28607.png', 'image_28608.png', 'image_28609.png', 'image_28610.png', 'image_28611.png', 'image_28612.png', 'image_28613.png', 'image_28614.png', 'image_28615.png', 'image_28616.png', 'image_28617.png', 'image_28618.png', 'image_28619.png', 'image_28620.png', 'image_28621.png', 'image_28622.png', 'image_28623.png', 'image_28624.png', 'image_28625.png', 'image_28626.png', 'image_28627.png', 'image_28628.png', 'image_28629.png', 'image_28630.png', 'image_28631.png', 'image_28632.png', 'image_28633.png', 'image_28634.png', 'image_28635.png', 'image_28636.png', 'image_28637.png', 'image_28638.png', 'image_28639.png', 'image_28640.png', 'image_28641.png', 'image_28642.png', 'image_28643.png', 'image_28644.png', 'image_28645.png', 'image_28646.png', 'image_28647.png', 'image_28648.png', 'image_28649.png', 'image_28650.png', 'image_28651.png', 'image_28652.png', 'image_28653.png', 'image_28654.png', 'image_28655.png', 'image_28656.png', 'image_28657.png', 'image_28658.png', 'image_28659.png', 'image_28660.png', 'image_28661.png', 'image_28662.png', 'image_28663.png', 'image_28664.png', 'image_28665.png', 'image_28666.png', 'image_28667.png', 'image_28668.png', 'image_28669.png', 'image_28670.png', 'image_28671.png', 'image_28672.png', 'image_28673.png', 'image_28674.png', 'image_28675.png', 'image_28676.png', 'image_28677.png', 'image_28678.png', 'image_28679.png', 'image_28680.png', 'image_28681.png', 'image_28682.png']\n"
     ]
    }
   ],
   "source": [
    "import cv2\n",
    "import os\n",
    "\n",
    "root_dir = './labeled'\n",
    "\n",
    "for dir in os.listdir(root_dir):\n",
    "    dir_path = os.path.join(root_dir, dir)\n",
    "    img_names = os.listdir(dir_path)\n",
    "    # Sort images by number\n",
    "    img_names.sort(key=lambda x: int(x[6:-4]))\n",
    "\n",
    "    frame = cv2.imread(os.path.join(dir_path, img_names[0]))\n",
    "    height, width, layers = frame.shape\n",
    "\n",
    "    video = cv2.VideoWriter(f'{dir}.mp4', cv2.VideoWriter_fourcc(*'mp4v'), 30, (width, height))\n",
    "    for image in img_names[:3600]:\n",
    "        video.write(cv2.imread(os.path.join(dir_path, image)))\n",
    "    \n",
    "    cv2.destroyAllWindows()\n",
    "    video.release()\n",
    "\n",
    "\n",
    "\n",
    "# import imageio\n",
    "# import os\n",
    "\n",
    "# root_dir = './labeled'\n",
    "\n",
    "# for dir in os.listdir(root_dir):\n",
    "#     dir_path = os.path.join(root_dir, dir)\n",
    "#     img_names = os.listdir(dir_path)\n",
    "#     # Sort images by number\n",
    "#     img_names.sort(key=lambda x: int(x[6:-4]))\n",
    "    \n",
    "#     # images = [imageio.imread(os.path.join(dir_path, img)) for img in img_names[:3600]]\n",
    "\n",
    "#     with imageio.get_writer(f'{dir}.mp4', fps=30) as writer:\n",
    "#         for img in img_names[:3600]:\n",
    "#             image = imageio.imread(os.path.join(dir_path, img))\n",
    "\n",
    "#             writer.append_data(image)\n",
    "\n"
   ]
  }
 ],
 "metadata": {
  "kernelspec": {
   "display_name": "old-py",
   "language": "python",
   "name": "python3"
  },
  "language_info": {
   "codemirror_mode": {
    "name": "ipython",
    "version": 3
   },
   "file_extension": ".py",
   "mimetype": "text/x-python",
   "name": "python",
   "nbconvert_exporter": "python",
   "pygments_lexer": "ipython3",
   "version": "3.11.4"
  }
 },
 "nbformat": 4,
 "nbformat_minor": 2
}
