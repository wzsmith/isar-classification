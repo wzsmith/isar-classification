{
  "cells": [
    {
      "cell_type": "code",
      "execution_count": 1,
      "metadata": {
        "id": "H2FmZxvftfj1"
      },
      "outputs": [],
      "source": [
        "# Link to paper: https://ieeexplore.ieee.org/stamp/stamp.jsp?tp=&arnumber=9971386\n",
        "import torch\n",
        "import torch.nn as nn\n",
        "import torch.nn.functional as F\n",
        "import torch.optim as optim\n",
        "from torch.utils.data import DataLoader, random_split\n",
        "from torchvision import transforms\n",
        "from torchvision.io import read_image\n",
        "from tqdm import tqdm\n",
        "\n",
        "import numpy as np\n",
        "import matplotlib.pyplot as plt\n",
        "\n",
        "from isar_dataset import ISARDataset"
      ]
    },
    {
      "cell_type": "markdown",
      "metadata": {},
      "source": [
        "## Model Definitions"
      ]
    },
    {
      "cell_type": "code",
      "execution_count": 2,
      "metadata": {
        "id": "6V4fHWkQl_Y7"
      },
      "outputs": [],
      "source": [
        "class ConvBlock(nn.Module):\n",
        "    def __init__(self, in_channels, out_channels, kernel_size=3, stride=1, padding=0):\n",
        "        super(ConvBlock, self).__init__()\n",
        "        self.conv = nn.Conv2d(in_channels, out_channels, kernel_size=kernel_size, stride=stride, padding=padding)\n",
        "        self.bn = nn.BatchNorm2d(out_channels)\n",
        "        self.relu = nn.ReLU()\n",
        "\n",
        "    def forward(self, x):\n",
        "        x = self.conv(x)\n",
        "        x = self.bn(x)\n",
        "        x = self.relu(x)\n",
        "        return x\n",
        "    \n",
        "class CNN(nn.Module):\n",
        "    def __init__(self, in_channels=1):\n",
        "        super().__init__()\n",
        "        self.cnn_layers = nn.Sequential(\n",
        "            ConvBlock(in_channels, 8),\n",
        "            ConvBlock(8, 8),\n",
        "            ConvBlock(8, 8),\n",
        "            ConvBlock(8, 8),\n",
        "            nn.MaxPool2d(kernel_size=2, stride=2),\n",
        "\n",
        "            ConvBlock(8, 16),\n",
        "            ConvBlock(16, 16),\n",
        "            ConvBlock(16, 16),\n",
        "            nn.MaxPool2d(kernel_size=2, stride=2),\n",
        "\n",
        "            ConvBlock(16, 32),\n",
        "            ConvBlock(32, 32),\n",
        "            ConvBlock(32, 32),\n",
        "            nn.MaxPool2d(kernel_size=2, stride=2)\n",
        "        )\n",
        "\n",
        "    def forward(self, x):\n",
        "        x = self.cnn_layers(x)\n",
        "        return x"
      ]
    },
    {
      "cell_type": "code",
      "execution_count": 3,
      "metadata": {
        "id": "VIrQyihkmuyo"
      },
      "outputs": [],
      "source": [
        "class BiLSTM(nn.Module):\n",
        "    def __init__(self, hidden_size, num_classes):\n",
        "        super().__init__()\n",
        "        self.hidden_size = hidden_size\n",
        "        self.num_layers = 2\n",
        "        self.lstm = nn.LSTM(2592, self.hidden_size, self.num_layers, batch_first=True, bidirectional=True)\n",
        "        self.fc = nn.Linear(self.hidden_size * 2, num_classes)\n",
        "\n",
        "    def forward(self, x):\n",
        "        # Initialize hidden and cell states (only needs to be done once)\n",
        "        h0 = torch.zeros(self.num_layers * 2, x.size(0), self.hidden_size).to(x.device) \n",
        "        c0 = torch.zeros(self.num_layers * 2, x.size(0), self.hidden_size).to(x.device)\n",
        "\n",
        "        # Forward pass through LSTM\n",
        "        out, _ = self.lstm(x, (h0, c0))  \n",
        "\n",
        "        # Extract last hidden state\n",
        "        return out[:, -1, :]\n",
        "\n",
        "class CNN_BiLSTM(nn.Module):\n",
        "    def __init__(self, num_classes):\n",
        "        super().__init__()\n",
        "        self.cnn = CNN()\n",
        "        hidden_size = 1000\n",
        "        self.bilstm = BiLSTM(hidden_size, num_classes)\n",
        "        self.fc1 = nn.Linear(2 * hidden_size, 100)\n",
        "        self.fc2 = nn.Linear(100, num_classes)\n",
        "\n",
        "    def forward(self, x):\n",
        "        B, seq_length, C, H, W = x.shape\n",
        "\n",
        "        # Process images in sequence via CNN independently\n",
        "        cnn_out = []\n",
        "        for i in range(seq_length):\n",
        "            img = x[:, i, :, :, :]\n",
        "            img = self.cnn(img)\n",
        "            img = img.flatten(1)\n",
        "            cnn_out.append(img)\n",
        "        x = torch.stack(cnn_out, dim=1)\n",
        "        \n",
        "        x = self.bilstm(x)\n",
        "        x = torch.flatten(x, 1)\n",
        "        x = self.fc1(x)\n",
        "        x = F.relu(x)\n",
        "        x = self.fc2(x)\n",
        "        x = F.softmax(x, dim=1)\n",
        "\n",
        "        return x"
      ]
    },
    {
      "cell_type": "markdown",
      "metadata": {},
      "source": [
        "## Training"
      ]
    },
    {
      "cell_type": "code",
      "execution_count": 4,
      "metadata": {},
      "outputs": [],
      "source": [
        "def evaluate(model, test_loader, criterion, device):\n",
        "    model.eval()  # Set model to evaluation mode\n",
        "\n",
        "    total_loss = 0.0\n",
        "    num_correct = 0\n",
        "    num_samples = len(test_loader.dataset)\n",
        "\n",
        "    with torch.no_grad():\n",
        "        for images, labels in test_loader:\n",
        "            images = images.to(device)\n",
        "            labels = labels.to(device)\n",
        "            \n",
        "            # Compute the outputs and loss\n",
        "            outputs = model(images)\n",
        "            loss = criterion(outputs, labels)\n",
        "            total_loss += loss.item()\n",
        "\n",
        "            # Compute the accuracy\n",
        "            _, predictions = torch.max(outputs, dim=1)\n",
        "            num_correct += (predictions == labels).sum().item()\n",
        "\n",
        "    # Compute the average loss and accuracy\n",
        "    avg_loss = total_loss / num_samples\n",
        "    accuracy = num_correct / num_samples\n",
        "\n",
        "    return avg_loss, accuracy"
      ]
    },
    {
      "cell_type": "code",
      "execution_count": 5,
      "metadata": {},
      "outputs": [
        {
          "name": "stderr",
          "output_type": "stream",
          "text": [
            "Epoch 1/50: 100%|██████████| 6/6 [00:13<00:00,  2.22s/batch, accuracy=0.476, loss=0.353]\n",
            "Epoch 2/50: 100%|██████████| 6/6 [00:12<00:00,  2.04s/batch, accuracy=0.667, loss=0.278]\n",
            "Epoch 3/50: 100%|██████████| 6/6 [00:14<00:00,  2.41s/batch, accuracy=0.952, loss=0.247]\n",
            "Epoch 4/50: 100%|██████████| 6/6 [00:16<00:00,  2.69s/batch, accuracy=0.952, loss=0.226]\n",
            "Epoch 5/50: 100%|██████████| 6/6 [00:14<00:00,  2.43s/batch, accuracy=0.952, loss=0.224]\n"
          ]
        },
        {
          "name": "stdout",
          "output_type": "stream",
          "text": [
            "Validation Set: Loss=0.24842366576194763, Accuracy=0.75\n"
          ]
        },
        {
          "name": "stderr",
          "output_type": "stream",
          "text": [
            "Epoch 6/50: 100%|██████████| 6/6 [00:11<00:00,  1.94s/batch, accuracy=0.952, loss=0.224]\n",
            "Epoch 7/50: 100%|██████████| 6/6 [00:11<00:00,  1.85s/batch, accuracy=0.952, loss=0.224]\n",
            "Epoch 8/50: 100%|██████████| 6/6 [00:12<00:00,  2.04s/batch, accuracy=0.952, loss=0.224]\n",
            "Epoch 9/50: 100%|██████████| 6/6 [00:09<00:00,  1.51s/batch, accuracy=0.952, loss=0.224]\n",
            "Epoch 10/50: 100%|██████████| 6/6 [00:09<00:00,  1.51s/batch, accuracy=0.952, loss=0.224]\n"
          ]
        },
        {
          "name": "stdout",
          "output_type": "stream",
          "text": [
            "Validation Set: Loss=0.2484246790409088, Accuracy=0.75\n"
          ]
        },
        {
          "name": "stderr",
          "output_type": "stream",
          "text": [
            "Epoch 11/50: 100%|██████████| 6/6 [00:09<00:00,  1.57s/batch, accuracy=0.952, loss=0.224]\n",
            "Epoch 12/50: 100%|██████████| 6/6 [00:09<00:00,  1.56s/batch, accuracy=0.952, loss=0.224]\n",
            "Epoch 13/50: 100%|██████████| 6/6 [00:09<00:00,  1.65s/batch, accuracy=0.952, loss=0.224]\n",
            "Epoch 14/50: 100%|██████████| 6/6 [00:09<00:00,  1.61s/batch, accuracy=0.952, loss=0.224]\n",
            "Epoch 15/50: 100%|██████████| 6/6 [00:10<00:00,  1.72s/batch, accuracy=0.952, loss=0.224]\n"
          ]
        },
        {
          "name": "stdout",
          "output_type": "stream",
          "text": [
            "Validation Set: Loss=0.24842104315757751, Accuracy=0.75\n"
          ]
        },
        {
          "name": "stderr",
          "output_type": "stream",
          "text": [
            "Epoch 16/50: 100%|██████████| 6/6 [00:09<00:00,  1.56s/batch, accuracy=0.952, loss=0.224]\n",
            "Epoch 17/50: 100%|██████████| 6/6 [00:09<00:00,  1.58s/batch, accuracy=0.952, loss=0.224]\n",
            "Epoch 18/50: 100%|██████████| 6/6 [00:09<00:00,  1.57s/batch, accuracy=0.952, loss=0.224]\n",
            "Epoch 19/50: 100%|██████████| 6/6 [00:09<00:00,  1.58s/batch, accuracy=0.952, loss=0.224]\n",
            "Epoch 20/50: 100%|██████████| 6/6 [00:09<00:00,  1.57s/batch, accuracy=0.952, loss=0.224]\n"
          ]
        },
        {
          "name": "stdout",
          "output_type": "stream",
          "text": [
            "Validation Set: Loss=0.24841980636119843, Accuracy=0.75\n"
          ]
        },
        {
          "name": "stderr",
          "output_type": "stream",
          "text": [
            "Epoch 21/50: 100%|██████████| 6/6 [00:11<00:00,  1.87s/batch, accuracy=0.952, loss=0.224]\n",
            "Epoch 22/50: 100%|██████████| 6/6 [00:09<00:00,  1.58s/batch, accuracy=0.952, loss=0.224]\n",
            "Epoch 23/50: 100%|██████████| 6/6 [00:10<00:00,  1.80s/batch, accuracy=0.952, loss=0.224]\n",
            "Epoch 24/50: 100%|██████████| 6/6 [00:11<00:00,  1.93s/batch, accuracy=0.952, loss=0.224]\n",
            "Epoch 25/50: 100%|██████████| 6/6 [00:11<00:00,  1.98s/batch, accuracy=0.952, loss=0.224]\n"
          ]
        },
        {
          "name": "stdout",
          "output_type": "stream",
          "text": [
            "Validation Set: Loss=0.24841934442520142, Accuracy=0.75\n"
          ]
        },
        {
          "name": "stderr",
          "output_type": "stream",
          "text": [
            "Epoch 26/50: 100%|██████████| 6/6 [00:10<00:00,  1.80s/batch, accuracy=0.952, loss=0.224]\n",
            "Epoch 27/50: 100%|██████████| 6/6 [00:10<00:00,  1.83s/batch, accuracy=0.952, loss=0.224]\n",
            "Epoch 28/50: 100%|██████████| 6/6 [00:09<00:00,  1.65s/batch, accuracy=0.952, loss=0.224]\n",
            "Epoch 29/50: 100%|██████████| 6/6 [00:10<00:00,  1.79s/batch, accuracy=0.952, loss=0.224]\n",
            "Epoch 30/50: 100%|██████████| 6/6 [00:10<00:00,  1.80s/batch, accuracy=0.952, loss=0.224]\n"
          ]
        },
        {
          "name": "stdout",
          "output_type": "stream",
          "text": [
            "Validation Set: Loss=0.24841901659965515, Accuracy=0.75\n"
          ]
        },
        {
          "name": "stderr",
          "output_type": "stream",
          "text": [
            "Epoch 31/50: 100%|██████████| 6/6 [00:13<00:00,  2.22s/batch, accuracy=0.952, loss=0.224]\n",
            "Epoch 32/50: 100%|██████████| 6/6 [00:12<00:00,  2.02s/batch, accuracy=0.952, loss=0.224]\n",
            "Epoch 33/50: 100%|██████████| 6/6 [00:10<00:00,  1.71s/batch, accuracy=0.952, loss=0.26]\n",
            "Epoch 34/50: 100%|██████████| 6/6 [00:10<00:00,  1.72s/batch, accuracy=0.952, loss=0.224]\n",
            "Epoch 35/50: 100%|██████████| 6/6 [00:10<00:00,  1.76s/batch, accuracy=0.952, loss=0.224]\n"
          ]
        },
        {
          "name": "stdout",
          "output_type": "stream",
          "text": [
            "Validation Set: Loss=0.2484186887741089, Accuracy=0.75\n"
          ]
        },
        {
          "name": "stderr",
          "output_type": "stream",
          "text": [
            "Epoch 36/50: 100%|██████████| 6/6 [00:13<00:00,  2.24s/batch, accuracy=0.952, loss=0.224]\n",
            "Epoch 37/50: 100%|██████████| 6/6 [00:12<00:00,  2.17s/batch, accuracy=0.952, loss=0.224]\n",
            "Epoch 38/50: 100%|██████████| 6/6 [00:10<00:00,  1.81s/batch, accuracy=0.952, loss=0.224]\n",
            "Epoch 39/50: 100%|██████████| 6/6 [00:11<00:00,  1.92s/batch, accuracy=0.952, loss=0.26]\n",
            "Epoch 40/50: 100%|██████████| 6/6 [00:11<00:00,  1.96s/batch, accuracy=0.952, loss=0.26]\n"
          ]
        },
        {
          "name": "stdout",
          "output_type": "stream",
          "text": [
            "Validation Set: Loss=0.24841848015785217, Accuracy=0.75\n"
          ]
        },
        {
          "name": "stderr",
          "output_type": "stream",
          "text": [
            "Epoch 41/50: 100%|██████████| 6/6 [00:13<00:00,  2.18s/batch, accuracy=0.952, loss=0.224]\n",
            "Epoch 42/50: 100%|██████████| 6/6 [00:11<00:00,  1.92s/batch, accuracy=0.952, loss=0.224]\n",
            "Epoch 43/50: 100%|██████████| 6/6 [00:10<00:00,  1.82s/batch, accuracy=0.952, loss=0.224]\n",
            "Epoch 44/50: 100%|██████████| 6/6 [00:09<00:00,  1.62s/batch, accuracy=0.952, loss=0.224]\n",
            "Epoch 45/50: 100%|██████████| 6/6 [00:09<00:00,  1.52s/batch, accuracy=0.952, loss=0.224]\n"
          ]
        },
        {
          "name": "stdout",
          "output_type": "stream",
          "text": [
            "Validation Set: Loss=0.24841824173927307, Accuracy=0.75\n"
          ]
        },
        {
          "name": "stderr",
          "output_type": "stream",
          "text": [
            "Epoch 46/50: 100%|██████████| 6/6 [00:09<00:00,  1.58s/batch, accuracy=0.952, loss=0.224]\n",
            "Epoch 47/50: 100%|██████████| 6/6 [00:08<00:00,  1.46s/batch, accuracy=0.952, loss=0.224]\n",
            "Epoch 48/50: 100%|██████████| 6/6 [00:09<00:00,  1.61s/batch, accuracy=0.952, loss=0.224]\n",
            "Epoch 49/50: 100%|██████████| 6/6 [00:09<00:00,  1.55s/batch, accuracy=0.952, loss=0.224]\n",
            "Epoch 50/50: 100%|██████████| 6/6 [00:10<00:00,  1.77s/batch, accuracy=0.952, loss=0.224]\n"
          ]
        },
        {
          "name": "stdout",
          "output_type": "stream",
          "text": [
            "Validation Set: Loss=0.24841804802417755, Accuracy=0.75\n"
          ]
        }
      ],
      "source": [
        "torch.manual_seed(0)\n",
        "\n",
        "# 0. Declare constants\n",
        "NUM_CLASSES = 4\n",
        "# DATA_PATH = 'data/raw/'\n",
        "# LABEL_PATH = 'labels.csv'\n",
        "DATA_PATH = 'test/data/'\n",
        "LABEL_PATH = 'test/test_labels.csv'\n",
        "MODEL_PATH = 'weights/test_cnn_bilstm_model.pth'\n",
        "\n",
        "# Hyperparameters\n",
        "SEQ_LENGTH = 3\n",
        "BATCH_SIZE = 4\n",
        "LEARNING_RATE = 1e-3\n",
        "NUM_EPOCHS=50\n",
        "\n",
        "TRAIN_RATIO = 0.7\n",
        "VAL_RATIO = 0.15\n",
        "TEST_RATIO = 0.15\n",
        "\n",
        "# 1. Data Preparation\n",
        "center_crop = transforms.CenterCrop((120, 120))\n",
        "\n",
        "# Load in dataset\n",
        "dataset = ISARDataset(LABEL_PATH, DATA_PATH, seq_length=SEQ_LENGTH, transform=center_crop)\n",
        "\n",
        "# Partition dataset into train, validation, and test sets\n",
        "train_size = int(TRAIN_RATIO * len(dataset))\n",
        "val_size = int(VAL_RATIO * len(dataset))\n",
        "test_size = len(dataset) - train_size - val_size\n",
        "train_dataset, val_dataset, test_dataset = random_split(dataset, [train_size, val_size, test_size])\n",
        "\n",
        "train_loader = DataLoader(train_dataset, batch_size=BATCH_SIZE, shuffle=True)\n",
        "val_loader = DataLoader(val_dataset, batch_size=BATCH_SIZE, shuffle=False)\n",
        "test_loader = DataLoader(test_dataset, batch_size=BATCH_SIZE, shuffle=False)\n",
        "\n",
        "# 2. Model and Optimization\n",
        "device = torch.device(\"cuda\" if torch.cuda.is_available() else \"cpu\")\n",
        "model = CNN_BiLSTM(num_classes=NUM_CLASSES).to(device)\n",
        "criterion = nn.CrossEntropyLoss()\n",
        "optimizer = optim.Adam(model.parameters(), lr=LEARNING_RATE)\n",
        "scheduler = StepLR(optimizer, step_size=30, gamma=0.1)  # Decays LR by a factor of 0.1 every 30 epochs\n",
        "\n",
        "# 3. Training Loop\n",
        "for epoch in range(NUM_EPOCHS):\n",
        "    model.train()\n",
        "\n",
        "    train_correct = 0\n",
        "    train_total = 0\n",
        "    train_loss = 0.0\n",
        "    \n",
        "    with tqdm(total=len(train_loader), unit=\"batch\", desc=f\"Epoch {epoch + 1}/{NUM_EPOCHS}\") as pbar:\n",
        "        for images, labels in train_loader:\n",
        "            images = images.to(device)\n",
        "            labels = labels.to(device)\n",
        "\n",
        "            optimizer.zero_grad()\n",
        "\n",
        "            # Forward, backward pass + optimize\n",
        "            outputs = model(images)\n",
        "            loss = criterion(outputs, labels)\n",
        "            loss.backward()\n",
        "            optimizer.step()\n",
        "\n",
        "            # Calculate loss\n",
        "            train_loss += loss.item()\n",
        "\n",
        "            # Calculate accuracy\n",
        "            _, predictions = torch.max(outputs, dim=1)\n",
        "            train_correct += (predictions == labels).sum().item()\n",
        "            train_total += len(labels)\n",
        "\n",
        "            # Update progress bar\n",
        "            pbar.update(1)\n",
        "            pbar.set_postfix(loss=train_loss / train_total, accuracy=train_correct / train_total)\n",
        "\n",
        "    # Validation every 5 epochs\n",
        "    if (epoch + 1) % 5 == 0:\n",
        "        val_loss, val_accuracy = evaluate(model, val_loader, criterion, device)\n",
        "        print(f\"Validation Set: Loss={val_loss}, Accuracy={val_accuracy}\")\n",
        "\n",
        "torch.save(model.state_dict(), MODEL_PATH)"
      ]
    },
    {
      "cell_type": "code",
      "execution_count": 7,
      "metadata": {},
      "outputs": [
        {
          "name": "stdout",
          "output_type": "stream",
          "text": [
            "Test Set: Loss=0.39746745824813845, Accuracy=0.6\n"
          ]
        }
      ],
      "source": [
        "test_loss, test_acc = evaluate(model, test_loader, criterion, device)\n",
        "print(f\"Test Set: Loss={test_loss}, Accuracy={test_acc}\")"
      ]
    },
    {
      "cell_type": "code",
      "execution_count": null,
      "metadata": {},
      "outputs": [],
      "source": [
        "\n",
        "# # Testing\n",
        "# IMG_PATH = 'data/raw/image_50.png'\n",
        "# MODEL_PATH = 'weights/cnn_bilstmv1.pth'\n",
        "\n",
        "# image = read_image(IMG_PATH).float()\n",
        "# plt.imshow(image.permute(1, 2, 0).int())\n",
        "# plt.axis('off')\n",
        "\n",
        "# saved_model = CNN_BiLSTM(num_classes=4)\n",
        "# saved_model.load_state_dict(torch.load(MODEL_PATH))\n",
        "# saved_model.eval()\n",
        "\n",
        "# test_loss, test_acc = evaluate(saved_model, test_loader, criterion, device)\n",
        "# print(f\"Test Set: Loss={test_loss}, Accuracy={test_acc}\")\n",
        "\n",
        "# # Add batch and sequence dimensions\n",
        "# image = center_crop(image).unsqueeze(0).unsqueeze(0)\n",
        "\n",
        "# with torch.no_grad():\n",
        "#     output = saved_model(image)\n",
        "#     prediction = torch.argmax(output, dim=1).item()\n",
        "#     print(f'Prediction: Class {prediction}')\n",
        "#     print(f'Probability: {output[0][prediction]:.2f}')"
      ]
    }
  ],
  "metadata": {
    "colab": {
      "collapsed_sections": [
        "4jWLjefbmVmE"
      ],
      "provenance": []
    },
    "kernelspec": {
      "display_name": "Python 3",
      "name": "python3"
    },
    "language_info": {
      "codemirror_mode": {
        "name": "ipython",
        "version": 3
      },
      "file_extension": ".py",
      "mimetype": "text/x-python",
      "name": "python",
      "nbconvert_exporter": "python",
      "pygments_lexer": "ipython3",
      "version": "3.12.4"
    }
  },
  "nbformat": 4,
  "nbformat_minor": 0
}
